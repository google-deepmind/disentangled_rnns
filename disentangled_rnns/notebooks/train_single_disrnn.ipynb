{
  "cells": [
    {
      "metadata": {
        "id": "yoeFT9RskVFW"
      },
      "cell_type": "markdown",
      "source": [
        "\u003ca href=\"https://colab.research.google.com/github/google-deepmind/disentangled_rnns/blob/main/disentangled_rnns/notebooks/train_single_disrnn.ipynb\" target=\"_parent\"\u003e\u003cimg src=\"https://colab.research.google.com/assets/colab-badge.svg\" alt=\"Open In Colab\"/\u003e\u003c/a\u003e"
      ]
    },
    {
      "metadata": {
        "id": "fSevIZJxda86"
      },
      "cell_type": "code",
      "source": [
        "# Install disentangled_rnns repo from github\n",
        "!git clone https://github.com/google-deepmind/disentangled_rnns\n",
        "%cd disentangled_rnns\n",
        "!pip install .\n",
        "%cd ..\n",
        "\n",
        "# Import the things we need\n",
        "import optax\n",
        "\n",
        "from disentangled_rnns.library import rnn_utils\n",
        "from disentangled_rnns.library import get_datasets\n",
        "from disentangled_rnns.library import disrnn\n",
        "from disentangled_rnns.library import plotting"
      ],
      "outputs": [],
      "execution_count": null
    },
    {
      "metadata": {
        "id": "ApA1YfVGz9Uq"
      },
      "cell_type": "markdown",
      "source": [
        "# Define a dataset"
      ]
    },
    {
      "metadata": {
        "id": "FBz5BKGDwDfL"
      },
      "cell_type": "code",
      "source": [
        "dataset = get_datasets.get_q_learning_dataset(n_sessions=500,)"
      ],
      "outputs": [],
      "execution_count": null
    },
    {
      "metadata": {
        "id": "caSlZS4OR0PK"
      },
      "cell_type": "code",
      "source": [
        "dataset_train, dataset_eval = rnn_utils.split_dataset(dataset, 2)"
      ],
      "outputs": [],
      "execution_count": null
    },
    {
      "metadata": {
        "id": "ONzEfURn0DU4"
      },
      "cell_type": "markdown",
      "source": [
        "# Define and train RNN"
      ]
    },
    {
      "metadata": {
        "id": "zalEsicS0RxY"
      },
      "cell_type": "code",
      "source": [
        "disrnn_config = disrnn.DisRnnConfig(\n",
        "      # Dataset related\n",
        "      obs_size=2,  # Choice, reward\n",
        "      output_size=2,  # Choose left / choose right\n",
        "      x_names=dataset.x_names,\n",
        "      y_names=dataset.y_names,\n",
        "      # Network architecture\n",
        "      latent_size=5,\n",
        "      update_net_n_units_per_layer=16,\n",
        "      update_net_n_layers=4,\n",
        "      choice_net_n_units_per_layer=4,\n",
        "      choice_net_n_layers=2,\n",
        "      activation='leaky_relu',\n",
        "      # Penalties\n",
        "      noiseless_mode=False,\n",
        "      latent_penalty_scale=1e-5,\n",
        "      choice_net_penalty_scale=1e-5,\n",
        "      update_net_penalty_scale=1e-5,\n",
        "  )"
      ],
      "outputs": [],
      "execution_count": null
    },
    {
      "metadata": {
        "id": "OULn6VOf0l-R"
      },
      "cell_type": "code",
      "source": [
        "# INITIALIZE THE NETWORK\n",
        "# Running rnn_utils.train_network with n_steps=0 does no training but sets up the\n",
        "# parameters and optimizer state.\n",
        "params, opt_state, losses = rnn_utils.train_network(\n",
        "   lambda: disrnn.HkDisentangledRNN(disrnn_config),\n",
        "    dataset_train,\n",
        "    dataset_eval,\n",
        "    opt = optax.adam(1e-2),\n",
        "    loss=\"penalized_categorical\",\n",
        "    n_steps=0)\n"
      ],
      "outputs": [],
      "execution_count": null
    },
    {
      "metadata": {
        "id": "JwFLIG_U1Eli"
      },
      "cell_type": "code",
      "source": [
        "# RUN THIS CELL AND THE ONES BELOW IT MANY TIMES\n",
        "# Running this cell repeatedly continues to train the same network.\n",
        "# The cells below make plots documenting what's going on in your network\n",
        "# If you'd like to reinitialize the network, re-run the above cell\n",
        "# Try tweaking the bottleneck parameters as you train, to get a feel for how they affect things\n",
        "disrnn_config.choice_net_penalty_scale = 1e-3\n",
        "disrnn_config.update_net_penalty_scale = 1e-3\n",
        "disrnn_config.latent_penalty_scale = 1e-2\n",
        "\n",
        "n_steps = 1000\n",
        "\n",
        "params, opt_state, losses = rnn_utils.train_network(\n",
        "    lambda: disrnn.HkDisentangledRNN(disrnn_config),\n",
        "    dataset_train,\n",
        "    dataset_eval,\n",
        "    loss=\"penalized_categorical\",\n",
        "    params=params,\n",
        "    opt_state=opt_state,\n",
        "    opt = optax.adam(1e-3),\n",
        "    loss_param = 1,\n",
        "    n_steps=n_steps,\n",
        "    do_plot = True)\n"
      ],
      "outputs": [],
      "execution_count": null
    },
    {
      "metadata": {
        "id": "ClNkwuMZoh3T"
      },
      "cell_type": "code",
      "source": [
        "# Plot the open/closed state of the bottlenecks\n",
        "plotting.plot_bottlenecks(params, disrnn_config)"
      ],
      "outputs": [],
      "execution_count": null
    },
    {
      "metadata": {
        "id": "YCTZJafT3X2j"
      },
      "cell_type": "code",
      "source": [
        "# Plot the choice rule\n",
        "plotting.plot_choice_rule(params, disrnn_config)"
      ],
      "outputs": [],
      "execution_count": null
    },
    {
      "metadata": {
        "id": "s2A-pkMXyRah"
      },
      "cell_type": "code",
      "source": [
        "# Plot the update rules\n",
        "plotting.plot_update_rules(params, disrnn_config)"
      ],
      "outputs": [],
      "execution_count": null
    }
  ],
  "metadata": {
    "colab": {
      "last_runtime": {
        "build_target": "//learning/deepmind/dm_python:dm_notebook3_tpu",
        "kind": "private"
      },
      "private_outputs": true,
      "provenance": [
        {
          "file_id": "1b5VOqHaVDOJ3fAW2E853NBQbSu2Yi-CP",
          "timestamp": 1727798409618
        },
        {
          "file_id": "1xgFbsQ34Of-WBTEQM_Hf7Di7N9YpRmdR",
          "timestamp": 1726760254895
        },
        {
          "file_id": "1IuwwEfCic7w3NsyVoVPtZSQCzrvTgh_X",
          "timestamp": 1696507812638
        }
      ]
    },
    "kernelspec": {
      "display_name": "Python 3",
      "name": "python3"
    },
    "language_info": {
      "name": "python"
    }
  },
  "nbformat": 4,
  "nbformat_minor": 0
}
