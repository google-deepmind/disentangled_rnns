{
  "cells": [
    {
      "metadata": {
        "id": "iQ_8aK7dji9u"
      },
      "cell_type": "markdown",
      "source": [
        "\u003ca href=\"https://colab.research.google.com/github/google-deepmind/disentangled_rnns/blob/main/disentangled_rnns/notebooks/train_multisubject_disrnn.ipynb\" target=\"_parent\"\u003e\u003cimg src=\"https://colab.research.google.com/assets/colab-badge.svg\" alt=\"Open In Colab\"/\u003e\u003c/a\u003e"
      ]
    },
    {
      "metadata": {
        "id": "nK-s9L5PLq2f"
      },
      "cell_type": "code",
      "source": [
        "# Install disentangled_rnns repo from github\n",
        "!git clone https://github.com/google-deepmind/disentangled_rnns\n",
        "%cd disentangled_rnns\n",
        "!pip install .\n",
        "%cd ..\n",
        "\n",
        "import optax\n",
        "import matplotlib.pyplot as plt\n",
        "import copy\n",
        "\n",
        "from disentangled_rnns.library import rnn_utils\n",
        "from disentangled_rnns.library import get_datasets\n",
        "from disentangled_rnns.library import plotting\n",
        "from disentangled_rnns.library import multisubject_disrnn"
      ],
      "outputs": [],
      "execution_count": null
    },
    {
      "metadata": {
        "id": "ApA1YfVGz9Uq"
      },
      "cell_type": "markdown",
      "source": [
        "# Define a dataset"
      ]
    },
    {
      "metadata": {
        "id": "MIhLKbgHPYmQ"
      },
      "cell_type": "code",
      "source": [
        "learning_rates = [0.1, 0.2, 0.3, 0.4, 0.5, 0.6, 0.7, 0.8, 0.9]\n",
        "\n",
        "datasets = []\n",
        "for learning_rate in learning_rates:\n",
        "  dataset_single_subj = get_datasets.get_q_learning_dataset(n_trials=200, n_sessions=300, alpha=learning_rate)\n",
        "  datasets.append(dataset_single_subj)\n",
        "\n",
        "dataset_multisubj = multisubject_disrnn.dataset_list_to_multisubject(datasets)"
      ],
      "outputs": [],
      "execution_count": null
    },
    {
      "metadata": {
        "id": "caSlZS4OR0PK"
      },
      "cell_type": "code",
      "source": [
        "dataset_train, dataset_eval = rnn_utils.split_dataset(dataset_multisubj, 2)"
      ],
      "outputs": [],
      "execution_count": null
    },
    {
      "metadata": {
        "id": "ONzEfURn0DU4"
      },
      "cell_type": "markdown",
      "source": [
        "# Define and train RNN"
      ]
    },
    {
      "metadata": {
        "id": "Ie3QyClIBxhU"
      },
      "cell_type": "code",
      "source": [
        "disrnn_config = multisubject_disrnn.MultisubjectDisRnnConfig(\n",
        "      obs_size=2,\n",
        "      output_size=2,\n",
        "\n",
        "      latent_size=5,\n",
        "      update_net_n_units_per_layer=16,\n",
        "      update_net_n_layers=4,\n",
        "      choice_net_n_units_per_layer=4,\n",
        "      choice_net_n_layers=2,\n",
        "      noiseless_mode=False,\n",
        "\n",
        "      max_n_subjects = len(learning_rates),\n",
        "      subject_embedding_size = 2,\n",
        "\n",
        "      latent_penalty_scale=1e-5,\n",
        "      choice_net_penalty_scale=1e-5,\n",
        "      update_net_penalty_scale=1e-5,\n",
        "      subject_embedding_penalty_scale=1e-5,\n",
        "      activation='leaky_relu',\n",
        "  )\n"
      ],
      "outputs": [],
      "execution_count": null
    },
    {
      "metadata": {
        "id": "OULn6VOf0l-R"
      },
      "cell_type": "code",
      "source": [
        "# Initial training in noiseless mode\n",
        "disrnn_config_noiseless = copy.copy(disrnn_config)\n",
        "disrnn_config_noiseless.noiseless_mode = True\n",
        "make_network_noiseless = lambda: multisubject_disrnn.MultisubjectDisRnn(disrnn_config_noiseless)\n",
        "\n",
        "params, opt_state, losses = rnn_utils.train_network(\n",
        "    make_network_noiseless,\n",
        "    dataset_train,\n",
        "    dataset_eval,\n",
        "    opt = optax.adam(1e-2),\n",
        "    loss=\"penalized_categorical\",\n",
        "    n_steps=1_000,\n",
        "    )\n"
      ],
      "outputs": [],
      "execution_count": null
    },
    {
      "metadata": {
        "id": "5ohhgHpbAkBD"
      },
      "cell_type": "code",
      "source": [
        "# RUN THIS CELL AND THE ONES BELOW IT MANY TIMES\n",
        "# Running this cell repeatedly continues to train the same network.\n",
        "# The cells below make plots documenting what's going on in your network\n",
        "# If you'd like to reinitialize the network, re-run the above cell\n",
        "# Try tweaking the bottleneck parameters as you train, to get a feel for how they affect things\n",
        "disrnn_config.choice_net_penalty_scale = 1e-3\n",
        "disrnn_config.update_net_penalty_scale = 1e-3\n",
        "disrnn_config.subject_embedding_penalty_scale = 1e-3\n",
        "disrnn_config.latent_penalty_scale = 1e-2\n",
        "\n",
        "make_network = lambda: multisubject_disrnn.MultisubjectDisRnn(disrnn_config)\n",
        "\n",
        "n_steps = 1_000\n",
        "\n",
        "params, opt_state, losses = rnn_utils.train_network(\n",
        "    make_network,\n",
        "    dataset_train,\n",
        "    dataset_eval,\n",
        "    loss=\"penalized_categorical\",\n",
        "    params=params,\n",
        "    opt_state=opt_state,\n",
        "    opt = optax.adam(1e-3),\n",
        "    loss_param = 1,\n",
        "    n_steps=n_steps,\n",
        "    do_plot = True)\n"
      ],
      "outputs": [],
      "execution_count": null
    },
    {
      "metadata": {
        "id": "ClNkwuMZoh3T"
      },
      "cell_type": "code",
      "source": [
        "# Plot the open/closed state of the bottlenecks\n",
        "_ = plotting.plot_bottlenecks(params, disrnn_config)"
      ],
      "outputs": [],
      "execution_count": null
    },
    {
      "metadata": {
        "id": "xGT3ldciHUr_"
      },
      "cell_type": "code",
      "source": [
        "# Plot the subject embeddings\n",
        "subject_embeddings = params['multisubject_dis_rnn/subject_embedding_weights']['w'] + params['multisubject_dis_rnn/subject_embedding_weights']['b']\n",
        "\n",
        "plt.figure()\n",
        "plt.scatter(subject_embeddings[:, 0], subject_embeddings[:, 1], c=learning_rates)\n",
        "plt.xlim([-1, 1])\n",
        "plt.ylim([-1, 1])\n",
        "plt.xlabel('Dimension One', fontsize=18)\n",
        "plt.ylabel('Dimension Two', fontsize=18)\n",
        "plt.title('Subject Embeddings', fontsize=24)\n",
        "cbar = plt.colorbar()\n",
        "cbar.set_label('Agent Learning Rate', fontsize=18)\n",
        "plt.show()"
      ],
      "outputs": [],
      "execution_count": null
    },
    {
      "metadata": {
        "id": "YCTZJafT3X2j"
      },
      "cell_type": "code",
      "source": [
        "# Plot the choice rule\n",
        "_ = plotting.plot_choice_rule(params, disrnn_config)"
      ],
      "outputs": [],
      "execution_count": null
    },
    {
      "metadata": {
        "id": "s2A-pkMXyRah"
      },
      "cell_type": "code",
      "source": [
        "# Plot the update rules\n",
        "_ = plotting.plot_update_rules(params, disrnn_config)"
      ],
      "outputs": [],
      "execution_count": null
    }
  ],
  "metadata": {
    "colab": {
      "last_runtime": {
        "build_target": "//learning/deepmind/dm_python:dm_notebook3_tpu",
        "kind": "private"
      },
      "private_outputs": true,
      "provenance": [
        {
          "file_id": "/piper/depot/google3/learning/deepmind/research/neuroexp/disrnn/notebooks/train_single_disrnn.ipynb?workspaceId=kevinjmiller:disentangled_rnns::citc",
          "timestamp": 1746727499294
        },
        {
          "file_id": "1b5VOqHaVDOJ3fAW2E853NBQbSu2Yi-CP",
          "timestamp": 1727798409618
        },
        {
          "file_id": "1xgFbsQ34Of-WBTEQM_Hf7Di7N9YpRmdR",
          "timestamp": 1726760254895
        },
        {
          "file_id": "1IuwwEfCic7w3NsyVoVPtZSQCzrvTgh_X",
          "timestamp": 1696507812638
        }
      ]
    },
    "kernelspec": {
      "display_name": "Python 3",
      "name": "python3"
    },
    "language_info": {
      "name": "python"
    }
  },
  "nbformat": 4,
  "nbformat_minor": 0
}
